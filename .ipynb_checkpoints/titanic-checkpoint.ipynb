{
 "cells": [
  {
   "cell_type": "markdown",
   "metadata": {},
   "source": [
    "# Dataset"
   ]
  },
  {
   "cell_type": "markdown",
   "metadata": {},
   "source": [
    "Para a nossa análise utilizaremos o conjunto de dados do Titanic, mundialmente conhecido e muito utilizado para projetos de machine learning, como um \"Hello world\" do mundo da ciêncida de dados.\n",
    "\n",
    "Link para [download](https://d17h27t6h515a5.cloudfront.net/topher/2017/October/59e4fe3d_titanic-data-6/titanic-data-6.csv)"
   ]
  },
  {
   "cell_type": "markdown",
   "metadata": {},
   "source": [
    "# Perguntas"
   ]
  },
  {
   "cell_type": "markdown",
   "metadata": {},
   "source": [
    "* Qual era o perfil geral dos passageiros?\n",
    "* Como variou o preço da passagem em relação ao local de embarque?\n",
    "* Quais fatores mais influenciaram a taxa de sobrevivência dos passageiros?\n",
    "* O número de familiares a bordo do titanic influenciou na taxa de sobrevivência?\n",
    "* O número de pais/filhos a bordo do titanic influenciou na taxa de sobrevivência? "
   ]
  },
  {
   "cell_type": "code",
   "execution_count": 1,
   "metadata": {},
   "outputs": [],
   "source": [
    "import matplotlib.pyplot as plt\n",
    "import numpy as np\n",
    "import pandas as pd\n",
    "import seaborn as sns"
   ]
  },
  {
   "cell_type": "code",
   "execution_count": 2,
   "metadata": {},
   "outputs": [],
   "source": [
    "df = pd.read_csv('titanic-data-6.csv', index_col='PassengerId')"
   ]
  },
  {
   "cell_type": "code",
   "execution_count": 3,
   "metadata": {},
   "outputs": [
    {
     "data": {
      "text/html": [
       "<div>\n",
       "<style scoped>\n",
       "    .dataframe tbody tr th:only-of-type {\n",
       "        vertical-align: middle;\n",
       "    }\n",
       "\n",
       "    .dataframe tbody tr th {\n",
       "        vertical-align: top;\n",
       "    }\n",
       "\n",
       "    .dataframe thead th {\n",
       "        text-align: right;\n",
       "    }\n",
       "</style>\n",
       "<table border=\"1\" class=\"dataframe\">\n",
       "  <thead>\n",
       "    <tr style=\"text-align: right;\">\n",
       "      <th></th>\n",
       "      <th>Survived</th>\n",
       "      <th>Pclass</th>\n",
       "      <th>Name</th>\n",
       "      <th>Sex</th>\n",
       "      <th>Age</th>\n",
       "      <th>SibSp</th>\n",
       "      <th>Parch</th>\n",
       "      <th>Ticket</th>\n",
       "      <th>Fare</th>\n",
       "      <th>Cabin</th>\n",
       "      <th>Embarked</th>\n",
       "    </tr>\n",
       "    <tr>\n",
       "      <th>PassengerId</th>\n",
       "      <th></th>\n",
       "      <th></th>\n",
       "      <th></th>\n",
       "      <th></th>\n",
       "      <th></th>\n",
       "      <th></th>\n",
       "      <th></th>\n",
       "      <th></th>\n",
       "      <th></th>\n",
       "      <th></th>\n",
       "      <th></th>\n",
       "    </tr>\n",
       "  </thead>\n",
       "  <tbody>\n",
       "    <tr>\n",
       "      <th>1</th>\n",
       "      <td>0</td>\n",
       "      <td>3</td>\n",
       "      <td>Braund, Mr. Owen Harris</td>\n",
       "      <td>male</td>\n",
       "      <td>22.0</td>\n",
       "      <td>1</td>\n",
       "      <td>0</td>\n",
       "      <td>A/5 21171</td>\n",
       "      <td>7.2500</td>\n",
       "      <td>NaN</td>\n",
       "      <td>S</td>\n",
       "    </tr>\n",
       "    <tr>\n",
       "      <th>2</th>\n",
       "      <td>1</td>\n",
       "      <td>1</td>\n",
       "      <td>Cumings, Mrs. John Bradley (Florence Briggs Th...</td>\n",
       "      <td>female</td>\n",
       "      <td>38.0</td>\n",
       "      <td>1</td>\n",
       "      <td>0</td>\n",
       "      <td>PC 17599</td>\n",
       "      <td>71.2833</td>\n",
       "      <td>C85</td>\n",
       "      <td>C</td>\n",
       "    </tr>\n",
       "    <tr>\n",
       "      <th>3</th>\n",
       "      <td>1</td>\n",
       "      <td>3</td>\n",
       "      <td>Heikkinen, Miss. Laina</td>\n",
       "      <td>female</td>\n",
       "      <td>26.0</td>\n",
       "      <td>0</td>\n",
       "      <td>0</td>\n",
       "      <td>STON/O2. 3101282</td>\n",
       "      <td>7.9250</td>\n",
       "      <td>NaN</td>\n",
       "      <td>S</td>\n",
       "    </tr>\n",
       "    <tr>\n",
       "      <th>4</th>\n",
       "      <td>1</td>\n",
       "      <td>1</td>\n",
       "      <td>Futrelle, Mrs. Jacques Heath (Lily May Peel)</td>\n",
       "      <td>female</td>\n",
       "      <td>35.0</td>\n",
       "      <td>1</td>\n",
       "      <td>0</td>\n",
       "      <td>113803</td>\n",
       "      <td>53.1000</td>\n",
       "      <td>C123</td>\n",
       "      <td>S</td>\n",
       "    </tr>\n",
       "    <tr>\n",
       "      <th>5</th>\n",
       "      <td>0</td>\n",
       "      <td>3</td>\n",
       "      <td>Allen, Mr. William Henry</td>\n",
       "      <td>male</td>\n",
       "      <td>35.0</td>\n",
       "      <td>0</td>\n",
       "      <td>0</td>\n",
       "      <td>373450</td>\n",
       "      <td>8.0500</td>\n",
       "      <td>NaN</td>\n",
       "      <td>S</td>\n",
       "    </tr>\n",
       "  </tbody>\n",
       "</table>\n",
       "</div>"
      ],
      "text/plain": [
       "             Survived  Pclass  \\\n",
       "PassengerId                     \n",
       "1                   0       3   \n",
       "2                   1       1   \n",
       "3                   1       3   \n",
       "4                   1       1   \n",
       "5                   0       3   \n",
       "\n",
       "                                                          Name     Sex   Age  \\\n",
       "PassengerId                                                                    \n",
       "1                                      Braund, Mr. Owen Harris    male  22.0   \n",
       "2            Cumings, Mrs. John Bradley (Florence Briggs Th...  female  38.0   \n",
       "3                                       Heikkinen, Miss. Laina  female  26.0   \n",
       "4                 Futrelle, Mrs. Jacques Heath (Lily May Peel)  female  35.0   \n",
       "5                                     Allen, Mr. William Henry    male  35.0   \n",
       "\n",
       "             SibSp  Parch            Ticket     Fare Cabin Embarked  \n",
       "PassengerId                                                          \n",
       "1                1      0         A/5 21171   7.2500   NaN        S  \n",
       "2                1      0          PC 17599  71.2833   C85        C  \n",
       "3                0      0  STON/O2. 3101282   7.9250   NaN        S  \n",
       "4                1      0            113803  53.1000  C123        S  \n",
       "5                0      0            373450   8.0500   NaN        S  "
      ]
     },
     "execution_count": 3,
     "metadata": {},
     "output_type": "execute_result"
    }
   ],
   "source": [
    "df.head()"
   ]
  },
  {
   "cell_type": "markdown",
   "metadata": {},
   "source": [
    "## Limpeza de dados"
   ]
  },
  {
   "cell_type": "markdown",
   "metadata": {},
   "source": [
    "Vamos padronizar os nomes das colunas para minúsculo"
   ]
  },
  {
   "cell_type": "code",
   "execution_count": 4,
   "metadata": {},
   "outputs": [],
   "source": [
    "df.rename(columns=lambda x: x.lower(), inplace=True)"
   ]
  },
  {
   "cell_type": "markdown",
   "metadata": {},
   "source": [
    "Podemos perceber que a idade está sendo tratada como float, vamos ver porque:"
   ]
  },
  {
   "cell_type": "code",
   "execution_count": 5,
   "metadata": {},
   "outputs": [
    {
     "data": {
      "text/plain": [
       "'22.0, 38.0, 26.0, 35.0, nan, 54.0, 2.0, 27.0, 14.0, 4.0, 58.0, 20.0, 39.0, 55.0, 31.0, 34.0, 15.0, 28.0, 8.0, 19.0, 40.0, 66.0, 42.0, 21.0, 18.0, 3.0, 7.0, 49.0, 29.0, 65.0, 28.5, 5.0, 11.0, 45.0, 17.0, 32.0, 16.0, 25.0, 0.83, 30.0, 33.0, 23.0, 24.0, 46.0, 59.0, 71.0, 37.0, 47.0, 14.5, 70.5, 32.5, 12.0, 9.0, 36.5, 51.0, 55.5, 40.5, 44.0, 1.0, 61.0, 56.0, 50.0, 36.0, 45.5, 20.5, 62.0, 41.0, 52.0, 63.0, 23.5, 0.92, 43.0, 60.0, 10.0, 64.0, 13.0, 48.0, 0.75, 53.0, 57.0, 80.0, 70.0, 24.5, 6.0, 0.67, 30.5, 0.42, 34.5, 74.0'"
      ]
     },
     "execution_count": 5,
     "metadata": {},
     "output_type": "execute_result"
    }
   ],
   "source": [
    "', '.join([str(s) for s in df.age.unique()])"
   ]
  },
  {
   "cell_type": "markdown",
   "metadata": {},
   "source": [
    "Alguns registros possuem valores abaixo de 1, ou seja, provavelmente são bebês com menos de 1 um ano."
   ]
  },
  {
   "cell_type": "code",
   "execution_count": 6,
   "metadata": {},
   "outputs": [
    {
     "name": "stdout",
     "output_type": "stream",
     "text": [
      "Número de passageiros com menos de 1 ano: 7\n"
     ]
    }
   ],
   "source": [
    "print(f'Número de passageiros com menos de 1 ano: {sum(df.age <1)}')"
   ]
  },
  {
   "cell_type": "markdown",
   "metadata": {},
   "source": [
    "Podemos perceber também que existe uma certa quantidade de idades faltantes:"
   ]
  },
  {
   "cell_type": "code",
   "execution_count": 7,
   "metadata": {},
   "outputs": [
    {
     "data": {
      "text/plain": [
       "177"
      ]
     },
     "execution_count": 7,
     "metadata": {},
     "output_type": "execute_result"
    }
   ],
   "source": [
    "sum(df.age.isnull())"
   ]
  },
  {
   "cell_type": "markdown",
   "metadata": {},
   "source": [
    "Existem algumas colunas que serão desnecessárias para a nossa análise, como a \"ticket\" e a \"cabin\", vamos retirá-las."
   ]
  },
  {
   "cell_type": "code",
   "execution_count": 8,
   "metadata": {},
   "outputs": [],
   "source": [
    "clean_df = df.drop(columns=['ticket', 'cabin'])"
   ]
  },
  {
   "cell_type": "markdown",
   "metadata": {},
   "source": [
    "A coluna \"embarked\" não deixa muito explícito qual o nome do local de embarque, nesse caso vamos utilizar como referência o dicionário de dados disponibilizado no site [kaggle](https://www.kaggle.com/c/titanic/data), para enriquecer nossos dados."
   ]
  },
  {
   "cell_type": "code",
   "execution_count": 9,
   "metadata": {},
   "outputs": [],
   "source": [
    "clean_df.loc[clean_df.embarked == 'S', 'embarked'] = 'Southampton'\n",
    "clean_df.loc[clean_df.embarked == 'C', 'embarked'] = 'Cherbourg'\n",
    "clean_df.loc[clean_df.embarked == 'Q', 'embarked'] = 'Queenstown'"
   ]
  },
  {
   "cell_type": "code",
   "execution_count": 10,
   "metadata": {},
   "outputs": [],
   "source": [
    "clean_df.loc[clean_df.sex == 'male', 'sex'] = 'masculino'\n",
    "clean_df.loc[clean_df.sex == 'female', 'sex'] = 'feminino'"
   ]
  },
  {
   "cell_type": "code",
   "execution_count": 11,
   "metadata": {},
   "outputs": [
    {
     "name": "stdout",
     "output_type": "stream",
     "text": [
      "<class 'pandas.core.frame.DataFrame'>\n",
      "Int64Index: 891 entries, 1 to 891\n",
      "Data columns (total 9 columns):\n",
      "survived    891 non-null int64\n",
      "pclass      891 non-null int64\n",
      "name        891 non-null object\n",
      "sex         891 non-null object\n",
      "age         714 non-null float64\n",
      "sibsp       891 non-null int64\n",
      "parch       891 non-null int64\n",
      "fare        891 non-null float64\n",
      "embarked    889 non-null object\n",
      "dtypes: float64(2), int64(4), object(3)\n",
      "memory usage: 69.6+ KB\n"
     ]
    }
   ],
   "source": [
    "clean_df.info()"
   ]
  },
  {
   "cell_type": "markdown",
   "metadata": {},
   "source": [
    "Apesar de existirem muitos valores faltantes na coluna \"age\", se estratificarmos pela classe à qual o passageiro pertence, podemos perceber que existe um desbalanceamento, os valores faltantes para a terceira classe representa 27% do total, enquanto que para a segunda classe representa apenas 5% do total, como podemos observar na tabela abaixo:"
   ]
  },
  {
   "cell_type": "code",
   "execution_count": 12,
   "metadata": {},
   "outputs": [
    {
     "data": {
      "text/html": [
       "<div>\n",
       "<style scoped>\n",
       "    .dataframe tbody tr th:only-of-type {\n",
       "        vertical-align: middle;\n",
       "    }\n",
       "\n",
       "    .dataframe tbody tr th {\n",
       "        vertical-align: top;\n",
       "    }\n",
       "\n",
       "    .dataframe thead th {\n",
       "        text-align: right;\n",
       "    }\n",
       "</style>\n",
       "<table border=\"1\" class=\"dataframe\">\n",
       "  <thead>\n",
       "    <tr style=\"text-align: right;\">\n",
       "      <th></th>\n",
       "      <th>sem_idade</th>\n",
       "      <th>com_idade</th>\n",
       "      <th>perc_%</th>\n",
       "    </tr>\n",
       "  </thead>\n",
       "  <tbody>\n",
       "    <tr>\n",
       "      <th>1</th>\n",
       "      <td>30</td>\n",
       "      <td>186</td>\n",
       "      <td>13.888889</td>\n",
       "    </tr>\n",
       "    <tr>\n",
       "      <th>2</th>\n",
       "      <td>11</td>\n",
       "      <td>173</td>\n",
       "      <td>5.978261</td>\n",
       "    </tr>\n",
       "    <tr>\n",
       "      <th>3</th>\n",
       "      <td>136</td>\n",
       "      <td>355</td>\n",
       "      <td>27.698574</td>\n",
       "    </tr>\n",
       "  </tbody>\n",
       "</table>\n",
       "</div>"
      ],
      "text/plain": [
       "   sem_idade  com_idade     perc_%\n",
       "1         30        186  13.888889\n",
       "2         11        173   5.978261\n",
       "3        136        355  27.698574"
      ]
     },
     "execution_count": 12,
     "metadata": {},
     "output_type": "execute_result"
    }
   ],
   "source": [
    "comparacao = pd.concat([\n",
    "    pd.Series(\n",
    "        clean_df.loc[clean_df.age.isnull(), 'pclass'].value_counts(),\n",
    "        name='sem_idade'),\n",
    "    pd.Series(\n",
    "        clean_df.loc[-clean_df.age.isnull(), 'pclass'].value_counts(),\n",
    "        name='com_idade')\n",
    "],\n",
    "                       axis=1).sort_index()\n",
    "comparacao.loc[:, 'perc_%'] = (comparacao['sem_idade'] / (\n",
    "    comparacao['sem_idade'] + comparacao['com_idade'])) * 100\n",
    "comparacao"
   ]
  },
  {
   "cell_type": "markdown",
   "metadata": {},
   "source": [
    "Desse modo, iremos substituir os valores faltantes pela média de cada classe."
   ]
  },
  {
   "cell_type": "code",
   "execution_count": 13,
   "metadata": {},
   "outputs": [],
   "source": [
    "for i in range(1, 4):\n",
    "    age_mean = clean_df.query(f'pclass == {i}').age.mean()\n",
    "    clean_df.loc[clean_df.pclass == i, 'age'] = \\\n",
    "        clean_df.loc[clean_df.pclass == i, 'age'].fillna(age_mean)"
   ]
  },
  {
   "cell_type": "markdown",
   "metadata": {},
   "source": [
    "## Exploração dos dados"
   ]
  },
  {
   "cell_type": "markdown",
   "metadata": {},
   "source": [
    "### Como era o perfil geral dos passageiros do Titanic?"
   ]
  },
  {
   "cell_type": "markdown",
   "metadata": {},
   "source": [
    "Para responder a essa pergunta, vamos dar uma olhada na idade, sexo, classe social, tarifa de embarque e local de embarque.\n",
    "\n",
    "Como somente a partir do dados do nosso conjunto não é possivel determinar com exatidão qual a classe social dos passageiros, que por si só já não é um conceito exato, vamos usar como parâmetro o em qual classe do navio ele estava navegando."
   ]
  },
  {
   "cell_type": "markdown",
   "metadata": {},
   "source": [
    "#### Idade"
   ]
  },
  {
   "cell_type": "code",
   "execution_count": 14,
   "metadata": {},
   "outputs": [
    {
     "data": {
      "image/png": "[encoded data removed]",
      "text/plain": [
       "<matplotlib.figure.Figure at 0x3226d2e630>"
      ]
     },
     "metadata": {},
     "output_type": "display_data"
    }
   ],
   "source": [
    "lim_inf = 13\n",
    "lim_sup = 45\n",
    "\n",
    "fig, (ax1, ax2) = plt.subplots(1, 2)\n",
    "\n",
    "ax1.hist(clean_df.age, bins=20, width=3)\n",
    "ax1.set(title=\"Distribuição da idade\", xlabel=\"anos\", ylabel=\"frequência\")\n",
    "ax1.axvline(x=lim_inf, c='red')\n",
    "ax1.axvline(x=lim_sup, c='red')\n",
    "\n",
    "ax2.boxplot(clean_df.age, vert=True, patch_artist=True, meanline=True)\n",
    "ax2.set(\n",
    "    title=\"Distribuição da idade\", xlabel=\"\", ylabel=\"anos\", xticklabels='')\n",
    "ax2.axhline(y=lim_inf, c='red', alpha=0.5)\n",
    "ax2.axhline(y=lim_sup, c='red', alpha=0.5)\n",
    "for ax in [ax1, ax2]:\n",
    "    ax.spines['right'].set_visible(False)\n",
    "    ax.spines['top'].set_visible(False)\n",
    "    ax.yaxis.grid(True, linestyle='--', which='major', color='grey', alpha=.25)\n",
    "fig.set_figwidth(10)\n",
    "fig.tight_layout()"
   ]
  },
  {
   "cell_type": "markdown",
   "metadata": {},
   "source": [
    "A partir do gráfico conseguimos percerber que a grande maioria dos passageiros tem entre 13 e 45 anos."
   ]
  },
  {
   "cell_type": "code",
   "execution_count": 15,
   "metadata": {},
   "outputs": [
    {
     "name": "stdout",
     "output_type": "stream",
     "text": [
      "80.7% dos passageiros possuía entre 13 e 45 anos\n"
     ]
    }
   ],
   "source": [
    "x = (clean_df.query(f\"age >={lim_inf} and age <= {lim_sup}\").shape[0] /\n",
    "     clean_df.shape[0]) * 100\n",
    "print(f'{x:.1f}% dos passageiros possuía entre {lim_inf} e {lim_sup} anos')"
   ]
  },
  {
   "cell_type": "markdown",
   "metadata": {},
   "source": [
    "#### Sexo"
   ]
  },
  {
   "cell_type": "code",
   "execution_count": 16,
   "metadata": {},
   "outputs": [
    {
     "data": {
      "text/html": [
       "<div>\n",
       "<style scoped>\n",
       "    .dataframe tbody tr th:only-of-type {\n",
       "        vertical-align: middle;\n",
       "    }\n",
       "\n",
       "    .dataframe tbody tr th {\n",
       "        vertical-align: top;\n",
       "    }\n",
       "\n",
       "    .dataframe thead th {\n",
       "        text-align: right;\n",
       "    }\n",
       "</style>\n",
       "<table border=\"1\" class=\"dataframe\">\n",
       "  <thead>\n",
       "    <tr style=\"text-align: right;\">\n",
       "      <th></th>\n",
       "      <th>Contagem</th>\n",
       "      <th>Percentual %</th>\n",
       "    </tr>\n",
       "  </thead>\n",
       "  <tbody>\n",
       "    <tr>\n",
       "      <th>masculino</th>\n",
       "      <td>577</td>\n",
       "      <td>64.8</td>\n",
       "    </tr>\n",
       "    <tr>\n",
       "      <th>feminino</th>\n",
       "      <td>314</td>\n",
       "      <td>35.2</td>\n",
       "    </tr>\n",
       "  </tbody>\n",
       "</table>\n",
       "</div>"
      ],
      "text/plain": [
       "           Contagem  Percentual %\n",
       "masculino       577          64.8\n",
       "feminino        314          35.2"
      ]
     },
     "execution_count": 16,
     "metadata": {},
     "output_type": "execute_result"
    }
   ],
   "source": [
    "counts = clean_df.sex.value_counts()\n",
    "counts.name = 'Contagem'\n",
    "perc = round((counts / clean_df.sex.shape[0]) * 100, 1)\n",
    "perc.name = 'Percentual %'\n",
    "tabela = pd.concat([counts, perc], axis=1)\n",
    "tabela"
   ]
  },
  {
   "cell_type": "code",
   "execution_count": 17,
   "metadata": {},
   "outputs": [
    {
     "data": {
      "image/png": "[encoded data removed]",
      "text/plain": [
       "<matplotlib.figure.Figure at 0x3228eb9e48>"
      ]
     },
     "metadata": {},
     "output_type": "display_data"
    }
   ],
   "source": [
    "fig = plt.figure()\n",
    "ax = plt.subplot2grid((2, 2), (0, 0), colspan=2)\n",
    "ax2 = plt.subplot2grid((2, 2), (1, 0))\n",
    "widths = clean_df.sex.value_counts()\n",
    "labels = pd.Series(clean_df.sex.value_counts().index.get_values())\n",
    "labels = labels.apply(lambda x: x[0].upper() + x[1:])\n",
    "y = [1, 2]\n",
    "\n",
    "ax.barh(width=widths, y=y, height=0.8)\n",
    "ax.set_yticks([1, 2])\n",
    "ax.set_yticklabels(labels)\n",
    "ax.set_ylim((0, 3))\n",
    "for i, width in enumerate(widths):\n",
    "    ax.annotate(width, xy=(width + 1, i + 0.9), ha='left')\n",
    "\n",
    "ax2.set_axis_off()\n",
    "ax2.table(\n",
    "    rowLabels=tabela.index.get_values(),\n",
    "    colLabels=['Contagem', 'Percentual %'],\n",
    "    cellText=tabela.get_values(),\n",
    "    loc='center')\n",
    "ax.spines['right'].set_visible(False)\n",
    "ax.spines['top'].set_visible(False)\n",
    "ax.xaxis.grid(True, linestyle='--', which='major', color='grey', alpha=.25)\n",
    "fig.tight_layout()\n",
    "fig.set_figwidth(7)"
   ]
  },
  {
   "cell_type": "markdown",
   "metadata": {},
   "source": [
    "Podemos percerber que a grande maioria dos passageiros era do sexo masculino."
   ]
  },
  {
   "cell_type": "markdown",
   "metadata": {},
   "source": [
    "#### Familiares"
   ]
  },
  {
   "cell_type": "markdown",
   "metadata": {},
   "source": [
    "Vamos considerar como familiares o somatório das colunas SibSp e ParCh"
   ]
  },
  {
   "cell_type": "code",
   "execution_count": 18,
   "metadata": {},
   "outputs": [],
   "source": [
    "clean_df['familiares'] = clean_df[['sibsp', 'parch']].apply(sum, axis=1)"
   ]
  },
  {
   "cell_type": "code",
   "execution_count": 19,
   "metadata": {
    "scrolled": true
   },
   "outputs": [
    {
     "data": {
      "text/plain": [
       "Text(1.0046,530,'0.9')"
      ]
     },
     "execution_count": 19,
     "metadata": {},
     "output_type": "execute_result"
    },
    {
     "data": {
      "image/png": "[encoded data removed]",
      "text/plain": [
       "<matplotlib.figure.Figure at 0x3228f24470>"
      ]
     },
     "metadata": {},
     "output_type": "display_data"
    }
   ],
   "source": [
    "fam_mean = clean_df.familiares.mean()\n",
    "\n",
    "fig, ax = plt.subplots()\n",
    "\n",
    "ax.hist(clean_df.familiares, 10)\n",
    "ax.axvline(x=fam_mean, c='red')\n",
    "ax.set(\n",
    "    title='Familiares a bordo do Titanic',\n",
    "    xlabel='Familiares',\n",
    "    ylabel='Frequência')\n",
    "ax.spines['right'].set_visible(False)\n",
    "ax.spines['top'].set_visible(False)\n",
    "ax.yaxis.grid(True, linestyle='--', which='major', color='grey', alpha=.25)\n",
    "ax.annotate(f'{fam_mean:.1f}', xy=(fam_mean + 0.1, 530))"
   ]
  },
  {
   "cell_type": "markdown",
   "metadata": {},
   "source": [
    "Através do histograma conseguimos ver que a grande maioria dos passageiros não viajava com familiares."
   ]
  },
  {
   "cell_type": "code",
   "execution_count": 20,
   "metadata": {},
   "outputs": [
    {
     "data": {
      "image/png": "[encoded data removed]",
      "text/plain": [
       "<matplotlib.figure.Figure at 0x3228fce198>"
      ]
     },
     "metadata": {},
     "output_type": "display_data"
    }
   ],
   "source": [
    "data = clean_df.loc[:, np.s_['familiares', 'sex']].groupby('sex').mean()\n",
    "fig = plt.figure()\n",
    "ax = plt.subplot2grid((2, 2), (0, 0), colspan=2)\n",
    "widths = data.get_values().ravel()\n",
    "labels = pd.Series(['feminino', 'masculino'])\n",
    "y = [1, 2]\n",
    "\n",
    "ax.barh(width=widths, y=y, height=0.8)\n",
    "ax.set_yticks([1, 2])\n",
    "ax.set_yticklabels(labels)\n",
    "ax.set_ylim((0, 3))\n",
    "ax.set(title='Familiares x sexo', xlabel='Familiares')\n",
    "for i, width in enumerate(widths):\n",
    "    ax.annotate(f'{width:.1f}', xy=(width + 0.01, i + 0.9), ha='left')\n",
    "ax.spines['right'].set_visible(False)\n",
    "ax.spines['top'].set_visible(False)\n",
    "ax.xaxis.grid(True, linestyle='--', which='major', color='grey', alpha=.25)\n",
    "fig.tight_layout()\n",
    "fig.set_figwidth(7)\n",
    "fig.set_figheight(5)"
   ]
  },
  {
   "cell_type": "markdown",
   "metadata": {},
   "source": [
    "Outro dado interessante é que as mulheres estavam acompanhadas em média de mais familiares que os homens, o que condiz com os costumes da época."
   ]
  },
  {
   "cell_type": "markdown",
   "metadata": {},
   "source": [
    "#### Classe"
   ]
  },
  {
   "cell_type": "code",
   "execution_count": 21,
   "metadata": {},
   "outputs": [
    {
     "data": {
      "image/png": "[encoded data removed]",
      "text/plain": [
       "<matplotlib.figure.Figure at 0x3228f0ea58>"
      ]
     },
     "metadata": {},
     "output_type": "display_data"
    }
   ],
   "source": [
    "heights = clean_df['pclass'].value_counts().sort_index().get_values()\n",
    "labels = np.arange(1, 4)\n",
    "bar_width = 1 / 1.5\n",
    "fig, ax = plt.subplots()\n",
    "ax.bar(x=labels, height=heights, width=bar_width)\n",
    "ax.set_xticks(labels)\n",
    "ax.set(title='Passageiros por classe', xlabel='Classe', ylabel='Passageiros')\n",
    "ax.set_ylim(0, 560)\n",
    "for i, v in enumerate(heights):\n",
    "    ax.annotate(v, xy=(i + 1, v + 10), ha='center')\n",
    "ax.spines['right'].set_visible(False)\n",
    "ax.spines['top'].set_visible(False)\n",
    "ax.yaxis.grid(True, linestyle='--', which='major', color='grey', alpha=.25)\n",
    "\n",
    "fig.tight_layout()"
   ]
  },
  {
   "cell_type": "code",
   "execution_count": 22,
   "metadata": {},
   "outputs": [],
   "source": [
    "data = pd.crosstab(clean_df.loc[:, 'pclass'], clean_df.loc[:, 'sex'])"
   ]
  },
  {
   "cell_type": "code",
   "execution_count": 23,
   "metadata": {},
   "outputs": [
    {
     "data": {
      "text/plain": [
       "<matplotlib.legend.Legend at 0x32290a7748>"
      ]
     },
     "execution_count": 23,
     "metadata": {},
     "output_type": "execute_result"
    },
    {
     "data": {
      "image/png": "[encoded data removed]",
      "text/plain": [
       "<matplotlib.figure.Figure at 0x322905bc18>"
      ]
     },
     "metadata": {},
     "output_type": "display_data"
    }
   ],
   "source": [
    "data = pd.crosstab(clean_df.loc[:, 'pclass'], clean_df.loc[:, 'sex'])\n",
    "fig, ax = plt.subplots()\n",
    "bar_width = .4\n",
    "index = data.index.get_values()\n",
    "sexes = data.columns.get_values().tolist()\n",
    "for i, sex in enumerate(sexes):\n",
    "    ax.barh(\n",
    "        y=index + (bar_width * i),\n",
    "        width=data.loc[:, sex],\n",
    "        label=sex,\n",
    "        height=bar_width)\n",
    "\n",
    "ax.set_title('Classe por sexo')\n",
    "ax.set_xlabel('Passageiros')\n",
    "ax.set_ylabel('Classe')\n",
    "ax.set_yticks(index + bar_width / 2)\n",
    "ax.set_yticklabels(index)\n",
    "ax.grid(True, linestyle='--', which='major', color='grey', alpha=.25)\n",
    "ax.spines['right'].set_visible(False)\n",
    "ax.spines['top'].set_visible(False)\n",
    "ax.legend()"
   ]
  },
  {
   "cell_type": "markdown",
   "metadata": {},
   "source": [
    "O gráfico acima mostra como os passageiros de diferentes sexos estão distribuídos pelas classes dos navios, é notável que os passageiros da terceira classe são, em sua maioria, do sexo masculino."
   ]
  },
  {
   "cell_type": "markdown",
   "metadata": {},
   "source": [
    "#### Porto de embarque"
   ]
  },
  {
   "cell_type": "markdown",
   "metadata": {},
   "source": [
    "Vamos checar quantos passageiros embarcaram em cada porto."
   ]
  },
  {
   "cell_type": "code",
   "execution_count": 24,
   "metadata": {},
   "outputs": [
    {
     "data": {
      "text/plain": [
       "(0, 700)"
      ]
     },
     "execution_count": 24,
     "metadata": {},
     "output_type": "execute_result"
    },
    {
     "data": {
      "image/png": "[encoded data removed]",
      "text/plain": [
       "<matplotlib.figure.Figure at 0x322910d438>"
      ]
     },
     "metadata": {},
     "output_type": "display_data"
    }
   ],
   "source": [
    "data = clean_df.embarked.value_counts()\n",
    "labels = data.index.get_values()\n",
    "bar_width = 1 / 1.5\n",
    "fig, ax = plt.subplots()\n",
    "\n",
    "ax.bar(\n",
    "    x=np.arange(1, 4),\n",
    "    height=data,\n",
    "    width=bar_width,\n",
    "    tick_label=labels.tolist())\n",
    "ax.set(title='Ponto de embarque', ylabel='Passageiros', xlabel='Porto')\n",
    "for i, v in enumerate(data):\n",
    "    ax.annotate(v, xy=(i + 1, v + 10), ha='center')\n",
    "fig.tight_layout()\n",
    "ax.spines['right'].set_visible(False)\n",
    "ax.spines['top'].set_visible(False)\n",
    "ax.yaxis.grid(True, linestyle='--', which='major', color='grey', alpha=.25)\n",
    "ax.set_ylim(0, 700)"
   ]
  },
  {
   "cell_type": "markdown",
   "metadata": {},
   "source": [
    "### Perfil\n",
    "O perfil mais comum de um passageiro do Titanic era:\n",
    "\n",
    "* Homem\n",
    "* Entre 13 e 45 anos\n",
    "* Com mais 1 familiar a bordo \n",
    "* Viajando na terceira classe\n",
    "* Embarcou em Southampton\n",
    "* e pagou 27,1 libras pela passagem"
   ]
  },
  {
   "cell_type": "markdown",
   "metadata": {},
   "source": [
    "### Como variou o preço da passagem entre os pontos de embarque?"
   ]
  },
  {
   "cell_type": "markdown",
   "metadata": {},
   "source": [
    "Comparando a tarifa média entre cada porto."
   ]
  },
  {
   "cell_type": "code",
   "execution_count": 25,
   "metadata": {},
   "outputs": [
    {
     "data": {
      "image/png": "[encoded data removed]",
      "text/plain": [
       "<matplotlib.figure.Figure at 0x322910d668>"
      ]
     },
     "metadata": {},
     "output_type": "display_data"
    }
   ],
   "source": [
    "data = clean_df.loc[:, np.s_['fare', 'embarked']].\\\n",
    "        groupby('embarked').mean()\n",
    "labels = data.index.get_values()\n",
    "data = [i[0] for i in data.get_values().tolist()]\n",
    "fig, ax = plt.subplots()\n",
    "\n",
    "ax.bar(x=np.arange(1, 4), height=data, tick_label=labels.tolist())\n",
    "ax.set(title='Tarifa por porto', ylabel='Tarifa', xlabel='Porto')\n",
    "ax.set_ylim(0, 70)\n",
    "for i, v in enumerate(data):\n",
    "    ax.annotate(f'{ v:.1f} ', xy=(i + 1, v + 1), ha='center')\n",
    "ax.spines['right'].set_visible(False)\n",
    "ax.spines['top'].set_visible(False)\n",
    "ax.yaxis.grid(True, linestyle='--', which='major', color='grey', alpha=.25)\n",
    "fig.tight_layout()"
   ]
  },
  {
   "cell_type": "code",
   "execution_count": 26,
   "metadata": {},
   "outputs": [
    {
     "data": {
      "text/plain": [
       "'A passagem média de Cherbourg era 451.60% mais cara que a do Porto de Queenstown e 221.40% mais cara que a do Porto de Southampton'"
      ]
     },
     "execution_count": 26,
     "metadata": {},
     "output_type": "execute_result"
    }
   ],
   "source": [
    "f'A passagem média de Cherbourg era {(data[0]/data[1])*100:.2f}% mais cara que a do Porto de Queenstown e {(data[0]/data[2])*100:.2f}% mais cara que a do Porto de Southampton'"
   ]
  },
  {
   "cell_type": "code",
   "execution_count": 27,
   "metadata": {},
   "outputs": [
    {
     "data": {
      "text/plain": [
       "(array([0, 1, 2]), <a list of 3 Text xticklabel objects>)"
      ]
     },
     "execution_count": 27,
     "metadata": {},
     "output_type": "execute_result"
    },
    {
     "data": {
      "image/png": "[encoded data removed]",
      "text/plain": [
       "<matplotlib.figure.Figure at 0x322911f7b8>"
      ]
     },
     "metadata": {},
     "output_type": "display_data"
    }
   ],
   "source": [
    "(pd.crosstab(clean_df.embarked, clean_df.pclass, normalize='columns')*100).plot(kind='bar')\n",
    "plt.title('Porto de embarque x Classe')\n",
    "plt.ylabel('Porcentagem (%)')\n",
    "plt.xlabel('Porto')\n",
    "plt.xticks(rotation=0)"
   ]
  },
  {
   "cell_type": "markdown",
   "metadata": {},
   "source": [
    "### Quais fatores influenciaram na taxa de sobrevivência dos passageiros? "
   ]
  },
  {
   "cell_type": "code",
   "execution_count": 28,
   "metadata": {},
   "outputs": [
    {
     "data": {
      "image/png": "[encoded data removed]",
      "text/plain": [
       "<matplotlib.figure.Figure at 0x322929dd68>"
      ]
     },
     "metadata": {},
     "output_type": "display_data"
    }
   ],
   "source": [
    "fig, ((ax, ax3), (ax1, ax2)) = plt.subplots(2, 2)\n",
    "data = pd.crosstab(clean_df.survived, clean_df.sex, normalize='columns') * 100\n",
    "surv = data.loc[1]\n",
    "not_surv = data.loc[0]\n",
    "index = np.arange(2)\n",
    "bar_width = 0.35\n",
    "\n",
    "ax.bar(x=index, width=bar_width, height=surv, label='Sobreviveu')\n",
    "ax.bar(\n",
    "    x=index,\n",
    "    width=bar_width,\n",
    "    bottom=surv,\n",
    "    height=not_surv,\n",
    "    label='Não Sobreviveu')\n",
    "ax.axhline(y=100, color='red', alpha=0.5, linestyle='--')\n",
    "ax.yaxis.grid(True, linestyle='--', which='major', color='grey', alpha=.25)\n",
    "ax.set_title('Sobrevivência por Sexo')\n",
    "ax.set_xlabel('Sexo')\n",
    "ax.set_ylabel('Porcentagem (%)')\n",
    "ax.set_xticks(index)\n",
    "ax.set_xticklabels(data.columns.get_values())\n",
    "ax.legend()\n",
    "ax.spines['right'].set_visible(False)\n",
    "ax.spines['top'].set_visible(False)\n",
    "\n",
    "for sex, ax in zip(['masculino', 'feminino'], (ax1, ax2)):\n",
    "    data = {\n",
    "        'surv': clean_df.query(f'survived == 1 and sex == \"{sex}\"').age,\n",
    "        'not_surv': clean_df.query(f'survived == 0 and sex ==\"{sex}\"').age\n",
    "    }\n",
    "    n, bins, _ = ax.hist(data['surv'], bins=8)\n",
    "    n2, bins2, _ = ax.hist(data['not_surv'], bins=bins)\n",
    "    ax.clear()\n",
    "    ax.barh(\n",
    "        y=bins[:-1],\n",
    "        width=n * (-1) -1,\n",
    "        height=(10 / 15) * 10,\n",
    "        label='Sobreviveu',\n",
    "        left=-1,\n",
    "        align='edge')\n",
    "    for x, y in zip(n, bins):\n",
    "        ax.annotate(int(x), xy=((x * -1) - 3, y + 2), ha='right')\n",
    "    ax.barh(\n",
    "        y=bins[:-1],\n",
    "        width=n2+1,\n",
    "        height=(10 / 15) * 10,\n",
    "        label='Não sobreviveu',\n",
    "        left=1,\n",
    "        align='edge')\n",
    "    for x, y in zip(n2, bins):\n",
    "        ax.annotate(int(x), xy=((x) + 3, y + 2), ha='left')\n",
    "    ax.set_xlim(-300, 300)\n",
    "    ax.legend()\n",
    "    ax.grid(alpha=0.25)\n",
    "    if sex == 'masculino':\n",
    "        ax.set_title('Homens')\n",
    "    else:\n",
    "        ax.set_title('Mulheres')\n",
    "    ax.set_xlabel('Quantidade')\n",
    "    ax.set_ylabel('Idade')\n",
    "    ax.set_xticks([-200, -150, -100, -50, 0, 50, 100, 150, 200, 250])\n",
    "    ax.set_xticklabels([200, 150, 100, 50, 0, 50, 100, 150, 200, 250])\n",
    "    ax.legend()\n",
    "    ax.spines['right'].set_visible(False)\n",
    "    ax.spines['top'].set_visible(False)\n",
    "    \n",
    "data = pd.crosstab(\n",
    "    clean_df.survived, clean_df.pclass, normalize='columns') * 100\n",
    "surv = data.loc[1]\n",
    "not_surv = data.loc[0]\n",
    "index = np.arange(3)\n",
    "bar_width = 0.66\n",
    "\n",
    "ax3.bar(x=index, width=bar_width, height=surv, label='Sobreviveu')\n",
    "ax3.bar(\n",
    "    x=index,\n",
    "    width=bar_width,\n",
    "    bottom=surv,\n",
    "    height=not_surv,\n",
    "    label='Não Sobreviveu')\n",
    "ax3.axhline(y=100, color='red', alpha=0.5, linestyle='--')\n",
    "ax3.yaxis.grid(True, linestyle='--', which='major', color='grey', alpha=.25)\n",
    "ax3.set_title('Sobrevivência por Classe')\n",
    "ax3.set_xlabel('Classe')\n",
    "ax3.set_ylabel('Porcentagem (%)')\n",
    "ax3.set_xticks(index)\n",
    "ax3.set_xticklabels(data.columns.get_values())\n",
    "ax3.legend()\n",
    "ax3.spines['right'].set_visible(False)\n",
    "ax3.spines['top'].set_visible(False)\n",
    "\n",
    "fig.set_figheight(10)\n",
    "fig.set_figwidth(15)\n",
    "fig.tight_layout()"
   ]
  },
  {
   "cell_type": "markdown",
   "metadata": {},
   "source": [
    "Podemos perceber o sexo é um dos fatores que mais influenciaram a a chance de sobrevivência de um passageiro."
   ]
  },
  {
   "cell_type": "markdown",
   "metadata": {},
   "source": [
    "### O número de pais/filhos a bordo do titanic influenciou na taxa de sobrevivência? "
   ]
  },
  {
   "cell_type": "code",
   "execution_count": 29,
   "metadata": {},
   "outputs": [
    {
     "data": {
      "image/png": "[encoded data removed]",
      "text/plain": [
       "<matplotlib.figure.Figure at 0x322923ad68>"
      ]
     },
     "metadata": {},
     "output_type": "display_data"
    }
   ],
   "source": [
    "fig, ax3 = plt.subplots()\n",
    "data = pd.crosstab(\n",
    "     clean_df.parch, clean_df.survived, normalize='index') * 100\n",
    "surv = data.iloc[:,1]\n",
    "not_surv = data.iloc[:,0]\n",
    "index = np.arange(7)\n",
    "bar_width = 0.66\n",
    "\n",
    "ax3.bar(x=index, width=bar_width, height=surv, label='Sobreviveu')\n",
    "ax3.bar(\n",
    "    x=index,\n",
    "    width=bar_width,\n",
    "    bottom=surv,\n",
    "    height=not_surv,\n",
    "    label='Não Sobreviveu')\n",
    "ax3.axhline(y=100, color='red', alpha=0.5, linestyle='--')\n",
    "ax3.yaxis.grid(True, linestyle='--', which='major', color='grey', alpha=.25)\n",
    "ax3.set_title('Sobrevivência x Qtde de Pais/filhos')\n",
    "ax3.set_xlabel('Qtde de Pais/filhos')\n",
    "ax3.set_ylabel('Porcentagem (%)')\n",
    "ax3.set_xticks(index)\n",
    "ax3.set_xticklabels(data.index.get_values())\n",
    "ax3.legend()\n",
    "ax3.spines['right'].set_visible(False)\n",
    "ax3.spines['top'].set_visible(False)"
   ]
  },
  {
   "cell_type": "markdown",
   "metadata": {},
   "source": [
    "Podemos observar que aqueles que tinham entre 1 e 3 pais ou filhos a bordo do navio tiveram muito mais chances de sobreviver que os demais."
   ]
  },
  {
   "cell_type": "markdown",
   "metadata": {},
   "source": [
    "# Conclusão\n",
    "\n",
    "\n",
    "A partir dos dados fornecidos, fizemos uma análise exploratória onde chegamos a algumas conclusões aplicando estatítica básica.\n",
    "Traçamos o perfil comum do passageiro do Titanic que era um homem entre 13 e 45 anos, com mais 1 familiar a bordo, viajando na terceira classe, que embarcou em Southampton e pagou 27,1 libras pela passagem.\n",
    "\n",
    "Percebemos que as passagens dos passageiros que embarcaram em Cherbourg era bem mais cara que a dos outros portos, justamente por ser o local de embarque da maioria dos passageiros da 1ª classe.\n",
    "\n",
    "Conseguimos percerber também que os passageiros do sexo feminino, os da primeira classe e os mais jovens foram os que mais sobreviveram, muito provavelmente por causa da política de \"mulheres e criança primeiro\", juntamente com o fato da primeira classe estar mais perto dos botes salva-vidas.\n",
    "\n",
    "Vale ressaltar que essas são apenas observações sobre dados fornecidos e não são definitivos."
   ]
  },
  {
   "cell_type": "code",
   "execution_count": null,
   "metadata": {},
   "outputs": [],
   "source": []
  }
 ],
 "metadata": {
  "kernelspec": {
   "display_name": "Python 3",
   "language": "python",
   "name": "python3"
  },
  "language_info": {
   "codemirror_mode": {
    "name": "ipython",
    "version": 3
   },
   "file_extension": ".py",
   "mimetype": "text/x-python",
   "name": "python",
   "nbconvert_exporter": "python",
   "pygments_lexer": "ipython3",
   "version": "3.6.3"
  },
  "varInspector": {
   "cols": {
    "lenName": 16,
    "lenType": 16,
    "lenVar": 40
   },
   "kernels_config": {
    "python": {
     "delete_cmd_postfix": "",
     "delete_cmd_prefix": "del ",
     "library": "var_list.py",
     "varRefreshCmd": "print(var_dic_list())"
    },
    "r": {
     "delete_cmd_postfix": ") ",
     "delete_cmd_prefix": "rm(",
     "library": "var_list.r",
     "varRefreshCmd": "cat(var_dic_list()) "
    }
   },
   "types_to_exclude": [
    "module",
    "function",
    "builtin_function_or_method",
    "instance",
    "_Feature"
   ],
   "window_display": false
  }
 },
 "nbformat": 4,
 "nbformat_minor": 2
}
